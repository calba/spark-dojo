{
 "metadata": {
  "name": "",
  "signature": "sha256:431b742be8269788ec878800d6b1838be041c975d181f438eb50c6476ffb73c2"
 },
 "nbformat": 3,
 "nbformat_minor": 0,
 "worksheets": [
  {
   "cells": [
    {
     "cell_type": "code",
     "collapsed": true,
     "input": [
      "sc"
     ],
     "language": "python",
     "metadata": {},
     "outputs": [
      {
       "metadata": {},
       "output_type": "pyout",
       "prompt_number": 1,
       "text": [
        "<pyspark.context.SparkContext at 0x104f85890>"
       ]
      }
     ],
     "prompt_number": 1
    },
    {
     "cell_type": "code",
     "collapsed": true,
     "input": [
      "# Cargamos el fichero rdd\n",
      "file_rdd = sc.textFile('/data/titanic/train.csv')\n",
      "testfile_rdd = sc.textFile('/data/titanic/test.csv')"
     ],
     "language": "python",
     "metadata": {},
     "outputs": [],
     "prompt_number": 11
    },
    {
     "cell_type": "code",
     "collapsed": false,
     "input": [
      "with open('/data/titanic/README.txt') as readme:\n",
      "    for l in readme:\n",
      "        print l"
     ],
     "language": "python",
     "metadata": {},
     "outputs": [
      {
       "output_type": "stream",
       "stream": "stdout",
       "text": [
        "VARIABLE DESCRIPTIONS:\n",
        "\n",
        "survival        Survival\n",
        "\n",
        "                (0 = No; 1 = Yes)\n",
        "\n",
        "pclass          Passenger Class\n",
        "\n",
        "                (1 = 1st; 2 = 2nd; 3 = 3rd)\n",
        "\n",
        "name            Name\n",
        "\n",
        "sex             Sex\n",
        "\n",
        "age             Age\n",
        "\n",
        "sibsp           Number of Siblings/Spouses Aboard\n",
        "\n",
        "parch           Number of Parents/Children Aboard\n",
        "\n",
        "ticket          Ticket Number\n",
        "\n",
        "fare            Passenger Fare\n",
        "\n",
        "cabin           Cabin\n",
        "\n",
        "embarked        Port of Embarkation\n",
        "\n",
        "                (C = Cherbourg; Q = Queenstown; S = Southampton)\n",
        "\n",
        "\n",
        "\n",
        "SPECIAL NOTES:\n",
        "\n",
        "Pclass is a proxy for socio-economic status (SES)\n",
        "\n",
        " 1st ~ Upper; 2nd ~ Middle; 3rd ~ Lower\n",
        "\n",
        "\n",
        "\n",
        "Age is in Years; Fractional if Age less than One (1)\n",
        "\n",
        " If the Age is Estimated, it is in the form xx.5\n",
        "\n",
        "\n",
        "\n",
        "With respect to the family relation variables (i.e. sibsp and parch)\n",
        "\n",
        "some relations were ignored.  The following are the definitions used\n",
        "\n",
        "for sibsp and parch.\n",
        "\n",
        "\n",
        "\n",
        "Sibling:  Brother, Sister, Stepbrother, or Stepsister of Passenger Aboard Titanic\n",
        "\n",
        "Spouse:   Husband or Wife of Passenger Aboard Titanic (Mistresses and Fiances Ignored)\n",
        "\n",
        "Parent:   Mother or Father of Passenger Aboard Titanic\n",
        "\n",
        "Child:    Son, Daughter, Stepson, or Stepdaughter of Passenger Aboard Titanic\n",
        "\n",
        "\n",
        "\n",
        "Other family relatives excluded from this study include cousins,\n",
        "\n",
        "nephews/nieces, aunts/uncles, and in-laws.  Some children travelled\n",
        "\n",
        "only with a nanny, therefore parch=0 for them.  As well, some\n",
        "\n",
        "travelled with very close friends or neighbors in a village, however,\n",
        "\n",
        "the definitions do not support such relations.\n",
        "\n"
       ]
      }
     ],
     "prompt_number": 34
    },
    {
     "cell_type": "code",
     "collapsed": true,
     "input": [
      "# Vemos unas lineas \n",
      "file_rdd.__COMPLETAR__"
     ],
     "language": "python",
     "metadata": {},
     "outputs": [
      {
       "metadata": {},
       "output_type": "pyout",
       "prompt_number": 36,
       "text": [
        "[u'survived,pclass,name,sex,age,sibsp,parch,ticket,fare,cabin,embarked',\n",
        " u'0,3,\"Braund, Mr. Owen Harris\",male,22,1,0,A/5 21171,7.25,,S',\n",
        " u'1,1,\"Cumings, Mrs. John Bradley (Florence Briggs Thayer)\",female,38,1,0,PC 17599,71.2833,C85,C']"
       ]
      }
     ],
     "prompt_number": 36
    },
    {
     "cell_type": "code",
     "collapsed": true,
     "input": [
      "# Generamos un nuevo rdd sin la cabecera, primero buscamos la cabecera y \n",
      "# creamos el rdd de pasajeros por resta\n",
      "heading = file_rdd.filter(lambda x: __COMPLETAR__)\n",
      "passengers_rdd = file_rdd.__COMPLETAR__(heading).cache()"
     ],
     "language": "python",
     "metadata": {},
     "outputs": [],
     "prompt_number": 15
    },
    {
     "cell_type": "code",
     "collapsed": true,
     "input": [
      "# O directamente filtramos la cabecera\n",
      "passengers_rdd = file_rdd.filter(__COMPLETAR__)"
     ],
     "language": "python",
     "metadata": {},
     "outputs": [
      {
       "metadata": {},
       "output_type": "pyout",
       "prompt_number": 9,
       "text": [
        "[u'1,1,\"Hays, Miss. Margaret Bechstein\",female,24,0,0,11767,83.1583,C54,C']"
       ]
      }
     ],
     "prompt_number": 9
    },
    {
     "cell_type": "code",
     "collapsed": true,
     "input": [
      "# Contamos cuantos pasajeros hay en el fichero (fichero de train)\n",
      "# En el titanic, segun yahoo hab\u00eda 2225, de los que fallecieron 1522\n",
      "passenger_count = passengers_rdd.__COMPLETAR__"
     ],
     "language": "python",
     "metadata": {},
     "outputs": [],
     "prompt_number": 20
    },
    {
     "cell_type": "code",
     "collapsed": true,
     "input": [
      "# Contamos cuantos sobrevivieron\n",
      "d = passengers_rdd.#__COMPLETAR\n",
      "print \"Survivors : \" + str(d['1']) + \", \" + str(round(float(d['1'])/passenger_count, 2))\n",
      "print \"Casualties: \" + str(d['0']) + \", \" + str(round(float(d['0'])/passenger_count, 2))"
     ],
     "language": "python",
     "metadata": {},
     "outputs": [
      {
       "output_type": "stream",
       "stream": "stdout",
       "text": [
        "Survivors : 342, 0.38\n",
        "Casualties: 549, 0.62\n"
       ]
      }
     ],
     "prompt_number": 23
    },
    {
     "cell_type": "code",
     "collapsed": true,
     "input": [
      "# Dibujamos\n",
      "\n",
      "import matplotlib.pyplot as plt\n",
      "\n",
      "plt.bar(range(len(d)), d.values(), align='center')\n",
      "plt.xticks(range(len(d)), d.keys())\n",
      "\n",
      "plt.show()\n"
     ],
     "language": "python",
     "metadata": {},
     "outputs": [
      {
       "metadata": {},
       "output_type": "display_data",
       "png": "[encoded data removed]",
       "text": [
        "<matplotlib.figure.Figure at 0x107128a90>"
       ]
      }
     ],
     "prompt_number": 25
    },
    {
     "cell_type": "code",
     "collapsed": false,
     "input": [
      "def is_number(s):\n",
      "    try:\n",
      "        float(s)\n",
      "        return True\n",
      "    except:\n",
      "        return None"
     ],
     "language": "python",
     "metadata": {},
     "outputs": [],
     "prompt_number": 48
    },
    {
     "cell_type": "code",
     "collapsed": false,
     "input": [
      "ages = passengers_rdd.filter(lambda x: __COMPLETAR__).map(lambda x: __COMPLETAR__).__COMPLETAR__"
     ],
     "language": "python",
     "metadata": {},
     "outputs": [],
     "prompt_number": 53
    },
    {
     "cell_type": "code",
     "collapsed": false,
     "input": [
      "# Tenemos un dict agregado\n",
      "ages"
     ],
     "language": "python",
     "metadata": {},
     "outputs": [
      {
       "metadata": {},
       "output_type": "pyout",
       "prompt_number": 54,
       "text": [
        "defaultdict(<type 'int'>, {40.5: 2, 1.0: 7, 2.0: 10, 3.0: 6, 4.0: 10, 5.0: 4, 0.75: 2, 7.0: 3, 8.0: 4, 9.0: 8, 10.0: 2, 11.0: 4, 12.0: 1, 13.0: 2, 14.0: 6, 15.0: 5, 16.0: 17, 17.0: 13, 18.0: 26, 19.0: 25, 20.0: 15, 21.0: 24, 22.0: 27, 23.0: 15, 24.0: 30, 25.0: 23, 26.0: 18, 27.0: 18, 28.0: 25, 29.0: 20, 30.0: 25, 31.0: 17, 32.0: 18, 33.0: 15, 34.0: 15, 35.0: 18, 36.0: 22, 37.0: 6, 38.0: 11, 39.0: 14, 40.0: 13, 41.0: 6, 42.0: 13, 43.0: 5, 44.0: 9, 45.0: 12, 46.0: 3, 47.0: 9, 48.0: 9, 49.0: 6, 50.0: 10, 51.0: 7, 52.0: 6, 53.0: 1, 54.0: 8, 55.0: 2, 56.0: 4, 57.0: 2, 58.0: 5, 59.0: 2, 60.0: 4, 61.0: 3, 62.0: 4, 63.0: 2, 64.0: 2, 65.0: 3, 66.0: 1, 70.0: 2, 71.0: 2, 74.0: 1, 80.0: 1, 0.92: 1, 55.5: 1, 30.5: 2, 36.5: 1, 14.5: 1, 0.83: 2, 23.5: 1, 0.42: 1, 6.0: 3, 20.5: 1, 45.5: 2, 24.5: 1, 70.5: 1, 34.5: 1, 0.67: 1, 28.5: 2, 32.5: 2})"
       ]
      }
     ],
     "prompt_number": 54
    },
    {
     "cell_type": "code",
     "collapsed": false,
     "input": [
      "# Consigamos las edades individuales (no recomendable si el dataset fuese muy grande)\n",
      "individual_ages = passengers_rdd.__COMPLETAR__"
     ],
     "language": "python",
     "metadata": {},
     "outputs": [],
     "prompt_number": 56
    },
    {
     "cell_type": "code",
     "collapsed": false,
     "input": [
      "plt.hist(individual_ages)"
     ],
     "language": "python",
     "metadata": {},
     "outputs": [
      {
       "metadata": {},
       "output_type": "pyout",
       "prompt_number": 58,
       "text": [
        "(array([ 54,  46, 177, 169, 118,  70,  45,  24,   9,   2]),\n",
        " array([  0.42 ,   8.378,  16.336,  24.294,  32.252,  40.21 ,  48.168,\n",
        "         56.126,  64.084,  72.042,  80.   ]),\n",
        " <a list of 10 Patch objects>)"
       ]
      },
      {
       "metadata": {},
       "output_type": "display_data",
       "png": "[encoded data removed]",
       "text": [
        "<matplotlib.figure.Figure at 0x107128110>"
       ]
      }
     ],
     "prompt_number": 58
    },
    {
     "cell_type": "code",
     "collapsed": false,
     "input": [
      "# Conseguir tasa de supervivencia por genero con mapreduce\n",
      "def map_supervivencia(line):\n",
      "    __COMPLETAR___\n",
      "\n",
      "def reduce_supervivencia(a, b):\n",
      "    __COMPLETAR___\n",
      "    \n",
      "\n",
      "supervivencia_genero = passengers_rdd.map(map_supervivencia).reduceByKey(reduce_supervivencia)\n"
     ],
     "language": "python",
     "metadata": {},
     "outputs": [],
     "prompt_number": 77
    },
    {
     "cell_type": "code",
     "collapsed": false,
     "input": [
      "surv = supervivencia_genero.collect()\n",
      "for k in surv:\n",
      "    print k[0] + \" survivors: \" + str(k[1]) + \"  (\" + str(round(float(k[1][0])/sum(k[1]),2)) + \")\"\n"
     ],
     "language": "python",
     "metadata": {},
     "outputs": [
      {
       "output_type": "stream",
       "stream": "stdout",
       "text": [
        "female survivors: (233, 81)  (0.74)\n",
        "male survivors: (109, 468)  (0.19)\n"
       ]
      }
     ],
     "prompt_number": 88
    },
    {
     "cell_type": "code",
     "collapsed": false,
     "input": [
      "# Conseguir tasa de supervivencia por clase\n"
     ],
     "language": "python",
     "metadata": {},
     "outputs": []
    }
   ],
   "metadata": {}
  }
 ]
}